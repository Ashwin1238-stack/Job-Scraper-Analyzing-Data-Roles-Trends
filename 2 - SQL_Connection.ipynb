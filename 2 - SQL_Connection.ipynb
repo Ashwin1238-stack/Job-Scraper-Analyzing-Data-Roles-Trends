{
 "cells": [
  {
   "cell_type": "code",
   "execution_count": 20,
   "id": "d800e25a-b422-4409-999d-e340c42e5073",
   "metadata": {},
   "outputs": [
    {
     "name": "stdout",
     "output_type": "stream",
     "text": [
      "Requirement already satisfied: xlrd in c:\\users\\manis\\anaconda3\\lib\\site-packages (2.0.1)\n",
      "Note: you may need to restart the kernel to use updated packages.\n"
     ]
    }
   ],
   "source": [
    "pip install xlrd"
   ]
  },
  {
   "cell_type": "code",
   "execution_count": 21,
   "id": "04c30956-ecd8-4895-8eb8-dbbe628667cd",
   "metadata": {},
   "outputs": [
    {
     "name": "stdout",
     "output_type": "stream",
     "text": [
      "Requirement already satisfied: mysql-connector-python in c:\\users\\manis\\anaconda3\\lib\\site-packages (9.3.0)Note: you may need to restart the kernel to use updated packages.\n",
      "\n"
     ]
    }
   ],
   "source": [
    "pip install mysql-connector-python"
   ]
  },
  {
   "cell_type": "code",
   "execution_count": 22,
   "id": "8f04a27e-424a-4e43-aef3-bd0ae79d6c38",
   "metadata": {},
   "outputs": [
    {
     "name": "stdout",
     "output_type": "stream",
     "text": [
      "Requirement already satisfied: SQLAlchemy in c:\\users\\manis\\anaconda3\\lib\\site-packages (2.0.34)\n",
      "Requirement already satisfied: typing-extensions>=4.6.0 in c:\\users\\manis\\anaconda3\\lib\\site-packages (from SQLAlchemy) (4.11.0)\n",
      "Requirement already satisfied: greenlet!=0.4.17 in c:\\users\\manis\\anaconda3\\lib\\site-packages (from SQLAlchemy) (3.0.1)\n",
      "Note: you may need to restart the kernel to use updated packages.\n"
     ]
    }
   ],
   "source": [
    "pip install SQLAlchemy"
   ]
  },
  {
   "cell_type": "code",
   "execution_count": 23,
   "id": "1c942c48-b8ac-44c2-8bf9-0343ea1e1029",
   "metadata": {},
   "outputs": [
    {
     "name": "stdout",
     "output_type": "stream",
     "text": [
      "Requirement already satisfied: pandas in c:\\users\\manis\\anaconda3\\lib\\site-packages (2.2.2)\n",
      "Requirement already satisfied: numpy>=1.26.0 in c:\\users\\manis\\anaconda3\\lib\\site-packages (from pandas) (1.26.4)\n",
      "Requirement already satisfied: python-dateutil>=2.8.2 in c:\\users\\manis\\anaconda3\\lib\\site-packages (from pandas) (2.9.0.post0)\n",
      "Requirement already satisfied: pytz>=2020.1 in c:\\users\\manis\\anaconda3\\lib\\site-packages (from pandas) (2024.1)\n",
      "Requirement already satisfied: tzdata>=2022.7 in c:\\users\\manis\\anaconda3\\lib\\site-packages (from pandas) (2023.3)\n",
      "Requirement already satisfied: six>=1.5 in c:\\users\\manis\\anaconda3\\lib\\site-packages (from python-dateutil>=2.8.2->pandas) (1.16.0)\n",
      "Note: you may need to restart the kernel to use updated packages.\n"
     ]
    }
   ],
   "source": [
    "pip install pandas"
   ]
  },
  {
   "cell_type": "code",
   "execution_count": 1,
   "id": "46766ed9-7f71-4487-a152-8a8fcb172d17",
   "metadata": {},
   "outputs": [],
   "source": [
    "import mysql.connector"
   ]
  },
  {
   "cell_type": "code",
   "execution_count": 3,
   "id": "428e20d2-662c-469d-9695-39c864652a56",
   "metadata": {},
   "outputs": [],
   "source": [
    "conn=mysql.connector.connect(\n",
    "    host=\"localhost\",\n",
    "    user=\"root\",\n",
    "    password=\"your_password\",\n",
    "    database=\"buildweek\"\n",
    ")\n",
    "print\n",
    "cursor=conn.cursor()\n"
   ]
  },
  {
   "cell_type": "code",
   "execution_count": 5,
   "id": "3f332d3c-1650-43fa-bf7a-ed200c5264b6",
   "metadata": {},
   "outputs": [],
   "source": [
    "import pandas as pd"
   ]
  },
  {
   "cell_type": "code",
   "execution_count": 7,
   "id": "3f12e45a-8a7b-4d8c-b652-e63be2281d4d",
   "metadata": {},
   "outputs": [],
   "source": [
    "df=pd.read_csv('clean_job_descriptions (1).xls')"
   ]
  },
  {
   "cell_type": "code",
   "execution_count": 9,
   "id": "d99d9ec0-bf09-4387-ab66-d467dfa49991",
   "metadata": {},
   "outputs": [
    {
     "data": {
      "text/html": [
       "<div>\n",
       "<style scoped>\n",
       "    .dataframe tbody tr th:only-of-type {\n",
       "        vertical-align: middle;\n",
       "    }\n",
       "\n",
       "    .dataframe tbody tr th {\n",
       "        vertical-align: top;\n",
       "    }\n",
       "\n",
       "    .dataframe thead th {\n",
       "        text-align: right;\n",
       "    }\n",
       "</style>\n",
       "<table border=\"1\" class=\"dataframe\">\n",
       "  <thead>\n",
       "    <tr style=\"text-align: right;\">\n",
       "      <th></th>\n",
       "      <th>Title</th>\n",
       "      <th>Company</th>\n",
       "      <th>Location</th>\n",
       "      <th>Average Salary</th>\n",
       "      <th>Date Posted</th>\n",
       "    </tr>\n",
       "  </thead>\n",
       "  <tbody>\n",
       "    <tr>\n",
       "      <th>0</th>\n",
       "      <td>Digital Marketing Specialist</td>\n",
       "      <td>Icahn Enterprises</td>\n",
       "      <td>Douglas</td>\n",
       "      <td>79000.0</td>\n",
       "      <td>2022-04-24</td>\n",
       "    </tr>\n",
       "    <tr>\n",
       "      <th>1</th>\n",
       "      <td>Web Developer</td>\n",
       "      <td>PNC Financial Services Group</td>\n",
       "      <td>Ashgabat</td>\n",
       "      <td>86000.0</td>\n",
       "      <td>2022-12-19</td>\n",
       "    </tr>\n",
       "    <tr>\n",
       "      <th>2</th>\n",
       "      <td>Operations Manager</td>\n",
       "      <td>United Services Automobile Assn.</td>\n",
       "      <td>Macao</td>\n",
       "      <td>82500.0</td>\n",
       "      <td>2022-09-14</td>\n",
       "    </tr>\n",
       "    <tr>\n",
       "      <th>3</th>\n",
       "      <td>Network Engineer</td>\n",
       "      <td>Hess</td>\n",
       "      <td>Porto-Novo</td>\n",
       "      <td>78000.0</td>\n",
       "      <td>2023-02-25</td>\n",
       "    </tr>\n",
       "    <tr>\n",
       "      <th>4</th>\n",
       "      <td>Event Manager</td>\n",
       "      <td>Cairn Energy</td>\n",
       "      <td>Santiago</td>\n",
       "      <td>75500.0</td>\n",
       "      <td>2022-10-11</td>\n",
       "    </tr>\n",
       "    <tr>\n",
       "      <th>5</th>\n",
       "      <td>Software Tester</td>\n",
       "      <td>Adani Ports and Special Economic Zone</td>\n",
       "      <td>Brussels</td>\n",
       "      <td>76000.0</td>\n",
       "      <td>2023-07-25</td>\n",
       "    </tr>\n",
       "    <tr>\n",
       "      <th>6</th>\n",
       "      <td>Teacher</td>\n",
       "      <td>FedEx</td>\n",
       "      <td>George Town</td>\n",
       "      <td>83000.0</td>\n",
       "      <td>2023-04-10</td>\n",
       "    </tr>\n",
       "    <tr>\n",
       "      <th>7</th>\n",
       "      <td>UX/UI Designer</td>\n",
       "      <td>Ryder System</td>\n",
       "      <td>SÃ£o TomÃ©</td>\n",
       "      <td>83500.0</td>\n",
       "      <td>2022-09-20</td>\n",
       "    </tr>\n",
       "    <tr>\n",
       "      <th>8</th>\n",
       "      <td>UX/UI Designer</td>\n",
       "      <td>Zee Entertainment Enterprises</td>\n",
       "      <td>Male</td>\n",
       "      <td>83500.0</td>\n",
       "      <td>2022-02-19</td>\n",
       "    </tr>\n",
       "    <tr>\n",
       "      <th>9</th>\n",
       "      <td>Wedding Planner</td>\n",
       "      <td>CSX</td>\n",
       "      <td>Saint John's</td>\n",
       "      <td>70000.0</td>\n",
       "      <td>2022-05-13</td>\n",
       "    </tr>\n",
       "  </tbody>\n",
       "</table>\n",
       "</div>"
      ],
      "text/plain": [
       "                          Title                                Company  \\\n",
       "0  Digital Marketing Specialist                      Icahn Enterprises   \n",
       "1                 Web Developer           PNC Financial Services Group   \n",
       "2            Operations Manager       United Services Automobile Assn.   \n",
       "3              Network Engineer                                   Hess   \n",
       "4                 Event Manager                           Cairn Energy   \n",
       "5               Software Tester  Adani Ports and Special Economic Zone   \n",
       "6                       Teacher                                  FedEx   \n",
       "7                UX/UI Designer                           Ryder System   \n",
       "8                UX/UI Designer          Zee Entertainment Enterprises   \n",
       "9               Wedding Planner                                    CSX   \n",
       "\n",
       "       Location  Average Salary Date Posted  \n",
       "0       Douglas         79000.0  2022-04-24  \n",
       "1      Ashgabat         86000.0  2022-12-19  \n",
       "2         Macao         82500.0  2022-09-14  \n",
       "3    Porto-Novo         78000.0  2023-02-25  \n",
       "4      Santiago         75500.0  2022-10-11  \n",
       "5      Brussels         76000.0  2023-07-25  \n",
       "6   George Town         83000.0  2023-04-10  \n",
       "7    SÃ£o TomÃ©         83500.0  2022-09-20  \n",
       "8          Male         83500.0  2022-02-19  \n",
       "9  Saint John's         70000.0  2022-05-13  "
      ]
     },
     "execution_count": 9,
     "metadata": {},
     "output_type": "execute_result"
    }
   ],
   "source": [
    "df.head(10)"
   ]
  },
  {
   "cell_type": "code",
   "execution_count": 11,
   "id": "8cdf192a-4506-4e01-83ef-5a8f7a3e4733",
   "metadata": {},
   "outputs": [
    {
     "name": "stdout",
     "output_type": "stream",
     "text": [
      "Data inserted successfully\n"
     ]
    },
    {
     "name": "stderr",
     "output_type": "stream",
     "text": [
      "IOPub data rate exceeded.\n",
      "The Jupyter server will temporarily stop sending output\n",
      "to the client in order to avoid crashing it.\n",
      "To change this limit, set the config variable\n",
      "`--ServerApp.iopub_data_rate_limit`.\n",
      "\n",
      "Current values:\n",
      "ServerApp.iopub_data_rate_limit=1000000.0 (bytes/sec)\n",
      "ServerApp.rate_limit_window=3.0 (secs)\n",
      "\n"
     ]
    }
   ],
   "source": [
    "#insert into MySQL table\n",
    "for _, row in df.iterrows():\n",
    "    cursor.execute(\"\"\"INSERT INTO clean_job_descriptions(`Title`, `Company`, `Location`, `Average Salary`, `Date Posted`)\n",
    "    VALUES(%s, %s, %s, %s, %s)\"\"\",\n",
    "                  (row[\"Title\"],row[\"Company\"],row[\"Location\"],row[\"Average Salary\"],row[\"Date Posted\"]))\n",
    "conn.commit()\n",
    "print(\"Data inserted successfully\")\n",
    "\n",
    "querry=\"SELECT * FROM clean_job_descriptions\"\n",
    "cursor.execute(querry)\n",
    "rows=cursor.fetchall()\n",
    "for row in rows:\n",
    "    print(row)\n"
   ]
  },
  {
   "cell_type": "code",
   "execution_count": null,
   "id": "96d1bf30-3887-4ff6-98e5-0da48d9ae0e1",
   "metadata": {},
   "outputs": [],
   "source": []
  }
 ],
 "metadata": {
  "kernelspec": {
   "display_name": "Python [conda env:base] *",
   "language": "python",
   "name": "conda-base-py"
  },
  "language_info": {
   "codemirror_mode": {
    "name": "ipython",
    "version": 3
   },
   "file_extension": ".py",
   "mimetype": "text/x-python",
   "name": "python",
   "nbconvert_exporter": "python",
   "pygments_lexer": "ipython3",
   "version": "3.12.7"
  }
 },
 "nbformat": 4,
 "nbformat_minor": 5
}
